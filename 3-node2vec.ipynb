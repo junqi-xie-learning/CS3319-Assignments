{
  "cells": [
    {
      "cell_type": "markdown",
      "metadata": {
        "id": "kPt5q27L5557"
      },
      "source": [
        "# CS245 - Lab 3\n",
        "## node2vec"
      ]
    },
    {
      "cell_type": "markdown",
      "metadata": {
        "id": "p0-YhEpP_Ds-"
      },
      "source": [
        "### Setup"
      ]
    },
    {
      "cell_type": "markdown",
      "metadata": {
        "id": "82kmj9fIVlq0"
      },
      "source": [
        "First of all, we install the [graph2vec library](https://github.com/VHRanger/graph2vec) which offers a fast implementation of the node2vec method.\n",
        "\n",
        "If you are curious to learn how to implement fast random walks on graphs, I recommend you to [read the blog post](https://www.singlelunch.com/2019/08/01/700x-faster-node2vec-models-fastest-random-walks-on-a-graph/) which explains some of the design choices behind this library."
      ]
    },
    {
      "cell_type": "code",
      "execution_count": 1,
      "metadata": {
        "id": "Ld017NzXCo-g",
        "vscode": {
          "languageId": "python"
        }
      },
      "outputs": [
        {
          "name": "stdout",
          "output_type": "stream",
          "text": [
            "Looking in indexes: https://pypi.org/simple, https://us-python.pkg.dev/colab-wheels/public/simple/\n",
            "Collecting nodevectors\n",
            "  Downloading nodevectors-0.1.23.tar.gz (15 kB)\n",
            "Collecting csrgraph\n",
            "  Downloading csrgraph-0.1.28.tar.gz (14 kB)\n",
            "Requirement already satisfied: gensim in /usr/local/lib/python3.7/dist-packages (from nodevectors) (3.6.0)\n",
            "Requirement already satisfied: networkx in /usr/local/lib/python3.7/dist-packages (from nodevectors) (2.6.3)\n",
            "Requirement already satisfied: numba in /usr/local/lib/python3.7/dist-packages (from nodevectors) (0.51.2)\n",
            "Requirement already satisfied: numpy in /usr/local/lib/python3.7/dist-packages (from nodevectors) (1.21.6)\n",
            "Requirement already satisfied: pandas>=1.0 in /usr/local/lib/python3.7/dist-packages (from nodevectors) (1.3.5)\n",
            "Requirement already satisfied: scipy in /usr/local/lib/python3.7/dist-packages (from nodevectors) (1.4.1)\n",
            "Requirement already satisfied: scikit-learn in /usr/local/lib/python3.7/dist-packages (from nodevectors) (1.0.2)\n",
            "Requirement already satisfied: pytz>=2017.3 in /usr/local/lib/python3.7/dist-packages (from pandas>=1.0->nodevectors) (2022.1)\n",
            "Requirement already satisfied: python-dateutil>=2.7.3 in /usr/local/lib/python3.7/dist-packages (from pandas>=1.0->nodevectors) (2.8.2)\n",
            "Requirement already satisfied: six>=1.5 in /usr/local/lib/python3.7/dist-packages (from python-dateutil>=2.7.3->pandas>=1.0->nodevectors) (1.15.0)\n",
            "Requirement already satisfied: tqdm in /usr/local/lib/python3.7/dist-packages (from csrgraph->nodevectors) (4.64.0)\n",
            "Requirement already satisfied: smart-open>=1.2.1 in /usr/local/lib/python3.7/dist-packages (from gensim->nodevectors) (6.0.0)\n",
            "Requirement already satisfied: llvmlite<0.35,>=0.34.0.dev0 in /usr/local/lib/python3.7/dist-packages (from numba->nodevectors) (0.34.0)\n",
            "Requirement already satisfied: setuptools in /usr/local/lib/python3.7/dist-packages (from numba->nodevectors) (57.4.0)\n",
            "Requirement already satisfied: threadpoolctl>=2.0.0 in /usr/local/lib/python3.7/dist-packages (from scikit-learn->nodevectors) (3.1.0)\n",
            "Requirement already satisfied: joblib>=0.11 in /usr/local/lib/python3.7/dist-packages (from scikit-learn->nodevectors) (1.1.0)\n",
            "Building wheels for collected packages: nodevectors, csrgraph\n",
            "  Building wheel for nodevectors (setup.py) ... \u001b[?25l\u001b[?25hdone\n",
            "  Created wheel for nodevectors: filename=nodevectors-0.1.23-py3-none-any.whl size=17950 sha256=56a6e86941dadec754641b78c64a93d5ce98a44da0aaacb4c2d5af786ffe8246\n",
            "  Stored in directory: /root/.cache/pip/wheels/6e/6a/11/ac8620f101db6248c3cd436636eb17f6f7430cd1ac3a3068dc\n",
            "  Building wheel for csrgraph (setup.py) ... \u001b[?25l\u001b[?25hdone\n",
            "  Created wheel for csrgraph: filename=csrgraph-0.1.28-py3-none-any.whl size=17632 sha256=328e6af90ef183679771431039dd866df23d7b29eeca00448ca1bd68d7791185\n",
            "  Stored in directory: /root/.cache/pip/wheels/3d/0a/58/36a63805f1cd719cbcc5a3c4c109604985a809e7d81bac1649\n",
            "Successfully built nodevectors csrgraph\n",
            "Installing collected packages: csrgraph, nodevectors\n",
            "Successfully installed csrgraph-0.1.28 nodevectors-0.1.23\n"
          ]
        }
      ],
      "source": [
        "!pip install nodevectors"
      ]
    },
    {
      "cell_type": "markdown",
      "metadata": {
        "id": "pUCNE4-5Wc8b"
      },
      "source": [
        "We now import the library, and create a small wrapper class which will expose only the few hyperparameters we will need to tune in this Lab"
      ]
    },
    {
      "cell_type": "code",
      "execution_count": 2,
      "metadata": {
        "id": "QiIPtudrGlTf",
        "vscode": {
          "languageId": "python"
        }
      },
      "outputs": [],
      "source": [
        "from nodevectors import Node2Vec\n",
        "import networkx as nx\n",
        "\n",
        "class Node2VecNew(Node2Vec):\n",
        "    \"\"\"\n",
        "    Parameters\n",
        "    ----------\n",
        "    p : float\n",
        "        p parameter of node2vec\n",
        "    q : float\n",
        "        q parameter of node2vec\n",
        "    d : int\n",
        "        dimensionality of the embedding vectors\n",
        "    \"\"\"\n",
        "    def __init__(self, p=1, q=1, d=32):\n",
        "        super().__init__(n_components=d,\n",
        "                         walklen=10,\n",
        "                         epochs=50,\n",
        "                         return_weight=1.0/p,\n",
        "                         neighbor_weight=1.0/q,\n",
        "                         threads=0,\n",
        "                         w2vparams={'window': 4,\n",
        "                                    'negative': 5, \n",
        "                                    'iter': 10,\n",
        "                                    'ns_exponent': 0.5,\n",
        "                                    'batch_words': 128})"
      ]
    },
    {
      "cell_type": "markdown",
      "metadata": {
        "id": "qwtlO4_m_LbQ"
      },
      "source": [
        "Lastly, let's import some of the common libraries needed for our task."
      ]
    },
    {
      "cell_type": "code",
      "execution_count": 3,
      "metadata": {
        "id": "twk-K-jilWK7",
        "vscode": {
          "languageId": "python"
        }
      },
      "outputs": [],
      "source": [
        "import pandas as pd\n",
        "import numpy as np\n",
        "import matplotlib.pyplot as plt\n",
        "%matplotlib inline"
      ]
    },
    {
      "cell_type": "markdown",
      "metadata": {
        "id": "kAYRX2PMm0L6"
      },
      "source": [
        "### Example"
      ]
    },
    {
      "cell_type": "code",
      "execution_count": 4,
      "metadata": {
        "id": "2PsVt5f2CsmP",
        "vscode": {
          "languageId": "python"
        }
      },
      "outputs": [
        {
          "name": "stdout",
          "output_type": "stream",
          "text": [
            "Making walks... "
          ]
        },
        {
          "name": "stderr",
          "output_type": "stream",
          "text": [
            "/usr/local/lib/python3.7/dist-packages/numba/np/ufunc/parallel.py:363: NumbaWarning: The TBB threading layer requires TBB version 2019.5 or later i.e., TBB_INTERFACE_VERSION >= 11005. Found TBB_INTERFACE_VERSION = 9107. The TBB threading layer is disabled.\n",
            "  warnings.warn(problem)\n"
          ]
        },
        {
          "name": "stdout",
          "output_type": "stream",
          "text": [
            "Done, T=3.25\n",
            "Mapping Walk Names... Done, T=0.23\n",
            "Training W2V... Done, T=0.41\n"
          ]
        }
      ],
      "source": [
        "# Load the Zachary's Karate Club as a NetworkX Graph object\n",
        "KCG = nx.karate_club_graph()\n",
        "\n",
        "# Fit embedding model to the Karate Club graph\n",
        "n2v = Node2VecNew(1, 1, 2)\n",
        "n2v.fit(KCG)"
      ]
    },
    {
      "cell_type": "code",
      "execution_count": 5,
      "metadata": {
        "id": "ZEjzhwEiC1HD",
        "vscode": {
          "languageId": "python"
        }
      },
      "outputs": [],
      "source": [
        "embeddings = []\n",
        "for node in KCG.nodes:\n",
        "    embedding = list(n2v.predict(node))\n",
        "    club = KCG.nodes[node]['club']\n",
        "    embeddings.append(embedding + [club])\n",
        "\n",
        "# Construct a pandas dataframe with the 2D embeddings from node2vec,\n",
        "# plus the club name that each node belongs to after the split\n",
        "df = pd.DataFrame(embeddings, columns=['x', 'y', 'club'])"
      ]
    },
    {
      "cell_type": "code",
      "execution_count": 6,
      "metadata": {
        "id": "fJBTilMGLInb",
        "vscode": {
          "languageId": "python"
        }
      },
      "outputs": [
        {
          "data": {
            "text/plain": [
              "<matplotlib.axes._subplots.AxesSubplot at 0x7f33d8300810>"
            ]
          },
          "execution_count": 6,
          "metadata": {},
          "output_type": "execute_result"
        },
        {
          "data": {
            "image/png": "[encoded data removed]",
            "text/plain": [
              "<Figure size 432x288 with 1 Axes>"
            ]
          },
          "metadata": {
            "needs_background": "light"
          },
          "output_type": "display_data"
        }
      ],
      "source": [
        "# Nodes who stayed with the Mr. Hi will be plotted in red, while nodes\n",
        "# who moved with the Officer will be plotted in blue\n",
        "colors = ['red' if x == 'Mr. Hi' else 'blue' for x in df.club]\n",
        "df.plot.scatter(x='x', y='y', s=50, c=colors)"
      ]
    },
    {
      "cell_type": "markdown",
      "metadata": {
        "id": "e6vmpmj6Ylph"
      },
      "source": [
        "If our example trained correctly, you should notice a clear separation between the blue and red nodes.  Solely from the graph structure, node2vec could predict how the Zachary's Karate Club split!\n",
        "\n",
        "Tune the hyperparameters ```p``` and ```q```, and notice how they affect the resulting embeddings."
      ]
    },
    {
      "cell_type": "markdown",
      "metadata": {
        "id": "vbmr23B2rJKR"
      },
      "source": [
        "### Your Task"
      ]
    },
    {
      "cell_type": "markdown",
      "metadata": {
        "id": "x15OQeyys1xd"
      },
      "source": [
        "Now we will study the behavior of node2vec on [barbell graphs](https://en.wikipedia.org/wiki/Barbell_graph).\n",
        "\n",
        "Below you can see a toy example of a barbell graph generated with NetworkX."
      ]
    },
    {
      "cell_type": "code",
      "execution_count": 7,
      "metadata": {
        "id": "xUYxs4E8aHgG",
        "vscode": {
          "languageId": "python"
        }
      },
      "outputs": [
        {
          "data": {
            "image/png": "[encoded data removed]",
            "text/plain": [
              "<Figure size 432x288 with 1 Axes>"
            ]
          },
          "metadata": {},
          "output_type": "display_data"
        }
      ],
      "source": [
        "toy_barbell = nx.barbell_graph(7, 0)\n",
        "nx.draw_kamada_kawai(toy_barbell)"
      ]
    },
    {
      "cell_type": "markdown",
      "metadata": {
        "id": "G7K3-57FyD8D"
      },
      "source": [
        "\n",
        "\n",
        "\n",
        "Generate a larger barbell graph, where each complete graph has exactly 1000 nodes, and the path length between the complete graphs is equal to 1 (i.e., all the nodes in the barbell graph belong to either one of the two complete graphs, and the connecting path does not have any internal node).\n",
        "\n",
        "Then, learn node2vec embeddings on this graph, setting ```p = 1, q = 1``` and ```d = 10```."
      ]
    },
    {
      "cell_type": "code",
      "execution_count": 8,
      "metadata": {
        "id": "k_rmp-SvaIOt",
        "vscode": {
          "languageId": "python"
        }
      },
      "outputs": [
        {
          "name": "stdout",
          "output_type": "stream",
          "text": [
            "Making walks... Done, T=0.75\n",
            "Mapping Walk Names... Done, T=1.84\n",
            "Training W2V... Done, T=26.78\n"
          ]
        }
      ],
      "source": [
        "# YOUR CODE HERE\n",
        "barbell_1 = nx.barbell_graph(1000, 0)\n",
        "\n",
        "n2v_1 = Node2VecNew(1, 1, 10)\n",
        "n2v_1.fit(barbell_1)\n",
        "\n",
        "embeddings_1 = []\n",
        "for node in barbell_1.nodes:\n",
        "    embedding = list(n2v_1.predict(node))\n",
        "    embeddings_1.append(embedding)"
      ]
    },
    {
      "cell_type": "markdown",
      "metadata": {
        "id": "fyxZBVwhzLQe"
      },
      "source": [
        "Write a function that takes as input a node id ```n``` in the graph (e.g., ```5```) and returns a list containing the cosine similarity between the node2vec vector of the input node ```n``` and all the nodes in the given barbell graph (including the similarity with ```n``` itself)."
      ]
    },
    {
      "cell_type": "code",
      "execution_count": 9,
      "metadata": {
        "id": "aq7advtkjXSp",
        "vscode": {
          "languageId": "python"
        }
      },
      "outputs": [],
      "source": [
        "# YOUR CODE HERE\n",
        "from scipy.spatial import distance\n",
        "\n",
        "def similarity(n, embeddings):\n",
        "    similarity = []\n",
        "    for embedding in embeddings:\n",
        "        similarity.append(1 - distance.cosine(embedding, embeddings[n]))\n",
        "    return similarity"
      ]
    },
    {
      "cell_type": "markdown",
      "metadata": {
        "id": "zw1oNDDD2dZO"
      },
      "source": [
        "Generate another barbell graph, this time adding a path of length 51 between the two complete graphs. To find out how, refer to the NetworkX documentation: [https://networkx.github.io/documentation/stable/reference/generated/networkx.generators.classic.barbell_graph.html#networkx.generators.classic.barbell_graph](https://networkx.github.io/documentation/stable/reference/generated/networkx.generators.classic.barbell_graph.html#networkx.generators.classic.barbell_graph)\n",
        "\n",
        "Learn the node2vec embeddings for the nodes of this new graph, using the same hyperparameters as before."
      ]
    },
    {
      "cell_type": "code",
      "execution_count": 10,
      "metadata": {
        "id": "OlPg6k6z65Gk",
        "vscode": {
          "languageId": "python"
        }
      },
      "outputs": [
        {
          "name": "stdout",
          "output_type": "stream",
          "text": [
            "Making walks... Done, T=0.49\n",
            "Mapping Walk Names... Done, T=0.98\n",
            "Training W2V... Done, T=27.78\n"
          ]
        }
      ],
      "source": [
        "# YOUR CODE HERE\n",
        "barbell_2 = nx.barbell_graph(1000, 50)\n",
        "\n",
        "n2v_2 = Node2VecNew(1, 1, 10)\n",
        "n2v_2.fit(barbell_2)\n",
        "\n",
        "embeddings_2 = []\n",
        "for node in barbell_2.nodes:\n",
        "    embedding = list(n2v_2.predict(node))\n",
        "    embeddings_2.append(embedding)"
      ]
    },
    {
      "cell_type": "markdown",
      "metadata": {
        "id": "SIrXJyVNP2AI"
      },
      "source": [
        "Once you have working code for each cell above, **save a version in Kaggle and share your notebook**!"
      ]
    }
  ],
  "metadata": {
    "language_info": {
      "name": "python"
    },
    "orig_nbformat": 4
  },
  "nbformat": 4,
  "nbformat_minor": 0
}
