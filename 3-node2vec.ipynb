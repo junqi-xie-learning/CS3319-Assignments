{
  "cells": [
    {
      "cell_type": "markdown",
      "metadata": {
        "id": "kPt5q27L5557"
      },
      "source": [
        "# CS245 - Lab 3\n",
        "## node2vec"
      ]
    },
    {
      "cell_type": "markdown",
      "metadata": {
        "id": "p0-YhEpP_Ds-"
      },
      "source": [
        "### Setup"
      ]
    },
    {
      "cell_type": "markdown",
      "metadata": {
        "id": "82kmj9fIVlq0"
      },
      "source": [
        "First of all, we install the [graph2vec library](https://github.com/VHRanger/graph2vec) which offers a fast implementation of the node2vec method.\n",
        "\n",
        "If you are curious to learn how to implement fast random walks on graphs, I recommend you to [read the blog post](https://www.singlelunch.com/2019/08/01/700x-faster-node2vec-models-fastest-random-walks-on-a-graph/) which explains some of the design choices behind this library."
      ]
    },
    {
      "cell_type": "code",
      "execution_count": null,
      "metadata": {
        "id": "Ld017NzXCo-g",
        "vscode": {
          "languageId": "python"
        }
      },
      "outputs": [],
      "source": [
        "!pip install nodevectors"
      ]
    },
    {
      "cell_type": "markdown",
      "metadata": {
        "id": "pUCNE4-5Wc8b"
      },
      "source": [
        "We now import the library, and create a small wrapper class which will expose only the few hyperparameters we will need to tune in this Lab"
      ]
    },
    {
      "cell_type": "code",
      "execution_count": null,
      "metadata": {
        "id": "QiIPtudrGlTf",
        "vscode": {
          "languageId": "python"
        }
      },
      "outputs": [],
      "source": [
        "from nodevectors import Node2Vec\n",
        "import networkx as nx\n",
        "\n",
        "class Node2VecNew(Node2Vec):\n",
        "    \"\"\"\n",
        "    Parameters\n",
        "    ----------\n",
        "    p : float\n",
        "        p parameter of node2vec\n",
        "    q : float\n",
        "        q parameter of node2vec\n",
        "    d : int\n",
        "        dimensionality of the embedding vectors\n",
        "    \"\"\"\n",
        "    def __init__(self, p=1, q=1, d=32):\n",
        "        super().__init__(n_components=d,\n",
        "                         walklen=10,\n",
        "                         epochs=50,\n",
        "                         return_weight=1.0/p,\n",
        "                         neighbor_weight=1.0/q,\n",
        "                         threads=0,\n",
        "                         w2vparams={'window': 4,\n",
        "                                    'negative': 5, \n",
        "                                    'iter': 10,\n",
        "                                    'ns_exponent': 0.5,\n",
        "                                    'batch_words': 128})"
      ]
    },
    {
      "cell_type": "markdown",
      "metadata": {
        "id": "qwtlO4_m_LbQ"
      },
      "source": [
        "Lastly, let's import some of the common libraries needed for our task."
      ]
    },
    {
      "cell_type": "code",
      "execution_count": null,
      "metadata": {
        "id": "twk-K-jilWK7",
        "vscode": {
          "languageId": "python"
        }
      },
      "outputs": [],
      "source": [
        "import pandas as pd\n",
        "import numpy as np\n",
        "import matplotlib.pyplot as plt\n",
        "%matplotlib inline"
      ]
    },
    {
      "cell_type": "markdown",
      "metadata": {
        "id": "kAYRX2PMm0L6"
      },
      "source": [
        "### Example"
      ]
    },
    {
      "cell_type": "code",
      "execution_count": null,
      "metadata": {
        "id": "2PsVt5f2CsmP",
        "vscode": {
          "languageId": "python"
        }
      },
      "outputs": [],
      "source": [
        "# Load the Zachary's Karate Club as a NetworkX Graph object\n",
        "KCG = nx.karate_club_graph()\n",
        "\n",
        "# Fit embedding model to the Karate Club graph\n",
        "n2v = Node2VecNew(1, 1, 2)\n",
        "n2v.fit(KCG)"
      ]
    },
    {
      "cell_type": "code",
      "execution_count": null,
      "metadata": {
        "id": "ZEjzhwEiC1HD",
        "vscode": {
          "languageId": "python"
        }
      },
      "outputs": [],
      "source": [
        "embeddings = []\n",
        "for node in KCG.nodes:\n",
        "    embedding = list(n2v.predict(node))\n",
        "    club = KCG.nodes[node]['club']\n",
        "    embeddings.append(embedding + [club])\n",
        "\n",
        "# Construct a pandas dataframe with the 2D embeddings from node2vec,\n",
        "# plus the club name that each node belongs to after the split\n",
        "df = pd.DataFrame(embeddings, columns=['x', 'y', 'club'])"
      ]
    },
    {
      "cell_type": "code",
      "execution_count": null,
      "metadata": {
        "id": "fJBTilMGLInb",
        "vscode": {
          "languageId": "python"
        }
      },
      "outputs": [],
      "source": [
        "# Nodes who stayed with the Mr. Hi will be plotted in red, while nodes\n",
        "# who moved with the Officer will be plotted in blue\n",
        "colors = ['red' if x == 'Mr. Hi' else 'blue' for x in df.club]\n",
        "df.plot.scatter(x='x', y='y', s=50, c=colors)"
      ]
    },
    {
      "cell_type": "markdown",
      "metadata": {
        "id": "e6vmpmj6Ylph"
      },
      "source": [
        "If our example trained correctly, you should notice a clear separation between the blue and red nodes.  Solely from the graph structure, node2vec could predict how the Zachary's Karate Club split!\n",
        "\n",
        "Tune the hyperparameters ```p``` and ```q```, and notice how they affect the resulting embeddings."
      ]
    },
    {
      "cell_type": "markdown",
      "metadata": {
        "id": "vbmr23B2rJKR"
      },
      "source": [
        "### Your Task"
      ]
    },
    {
      "cell_type": "markdown",
      "metadata": {
        "id": "x15OQeyys1xd"
      },
      "source": [
        "Now we will study the behavior of node2vec on [barbell graphs](https://en.wikipedia.org/wiki/Barbell_graph).\n",
        "\n",
        "Below you can see a toy example of a barbell graph generated with NetworkX."
      ]
    },
    {
      "cell_type": "code",
      "execution_count": null,
      "metadata": {
        "id": "xUYxs4E8aHgG",
        "vscode": {
          "languageId": "python"
        }
      },
      "outputs": [],
      "source": [
        "toy_barbell = nx.barbell_graph(7, 0)\n",
        "nx.draw_kamada_kawai(toy_barbell)"
      ]
    },
    {
      "cell_type": "markdown",
      "metadata": {
        "id": "G7K3-57FyD8D"
      },
      "source": [
        "\n",
        "\n",
        "\n",
        "Generate a larger barbell graph, where each complete graph has exactly 1000 nodes, and the path length between the complete graphs is equal to 1 (i.e., all the nodes in the barbell graph belong to either one of the two complete graphs, and the connecting path does not have any internal node).\n",
        "\n",
        "Then, learn node2vec embeddings on this graph, setting ```p = 1, q = 1``` and ```d = 10```."
      ]
    },
    {
      "cell_type": "code",
      "execution_count": null,
      "metadata": {
        "id": "k_rmp-SvaIOt",
        "vscode": {
          "languageId": "python"
        }
      },
      "outputs": [],
      "source": [
        "# YOUR CODE HERE\n"
      ]
    },
    {
      "cell_type": "markdown",
      "metadata": {
        "id": "fyxZBVwhzLQe"
      },
      "source": [
        "Write a function that takes as input a node id ```n``` in the graph (e.g., ```5```) and returns a list containing the cosine similarity between the node2vec vector of the input node ```n``` and all the nodes in the given barbell graph (including the similarity with ```n``` itself)."
      ]
    },
    {
      "cell_type": "code",
      "execution_count": null,
      "metadata": {
        "id": "aq7advtkjXSp",
        "vscode": {
          "languageId": "python"
        }
      },
      "outputs": [],
      "source": [
        "# YOUR CODE HERE\n"
      ]
    },
    {
      "cell_type": "markdown",
      "metadata": {
        "id": "zw1oNDDD2dZO"
      },
      "source": [
        "Generate another barbell graph, this time adding a path of length 51 between the two complete graphs. To find out how, refer to the NetworkX documentation: [https://networkx.github.io/documentation/stable/reference/generated/networkx.generators.classic.barbell_graph.html#networkx.generators.classic.barbell_graph](https://networkx.github.io/documentation/stable/reference/generated/networkx.generators.classic.barbell_graph.html#networkx.generators.classic.barbell_graph)\n",
        "\n",
        "Learn the node2vec embeddings for the nodes of this new graph, using the same hyperparameters as before."
      ]
    },
    {
      "cell_type": "code",
      "execution_count": null,
      "metadata": {
        "id": "OlPg6k6z65Gk",
        "vscode": {
          "languageId": "python"
        }
      },
      "outputs": [],
      "source": [
        "# YOUR CODE HERE\n"
      ]
    },
    {
      "cell_type": "markdown",
      "metadata": {
        "id": "SIrXJyVNP2AI"
      },
      "source": [
        "Once you have working code for each cell above, **save a version in Kaggle and share your notebook**!"
      ]
    }
  ],
  "nbformat": 4,
  "nbformat_minor": 0
}
